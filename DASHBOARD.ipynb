{
  "nbformat": 4,
  "nbformat_minor": 0,
  "metadata": {
    "colab": {
      "provenance": []
    },
    "kernelspec": {
      "name": "python3",
      "display_name": "Python 3"
    },
    "language_info": {
      "name": "python"
    }
  },
  "cells": [
    {
      "cell_type": "code",
      "execution_count": null,
      "metadata": {
        "colab": {
          "base_uri": "https://localhost:8080/"
        },
        "id": "muShTcYoEKBG",
        "outputId": "07e8993d-d77a-48ae-ff4a-5a98bdbf903c"
      },
      "outputs": [
        {
          "output_type": "stream",
          "name": "stdout",
          "text": [
            "Requirement already satisfied: dash-bootstrap-components in /usr/local/lib/python3.10/dist-packages (1.6.0)\n",
            "Requirement already satisfied: dash>=2.0.0 in /usr/local/lib/python3.10/dist-packages (from dash-bootstrap-components) (2.18.2)\n",
            "Requirement already satisfied: Flask<3.1,>=1.0.4 in /usr/local/lib/python3.10/dist-packages (from dash>=2.0.0->dash-bootstrap-components) (2.2.5)\n",
            "Requirement already satisfied: Werkzeug<3.1 in /usr/local/lib/python3.10/dist-packages (from dash>=2.0.0->dash-bootstrap-components) (3.0.6)\n",
            "Requirement already satisfied: plotly>=5.0.0 in /usr/local/lib/python3.10/dist-packages (from dash>=2.0.0->dash-bootstrap-components) (5.24.1)\n",
            "Requirement already satisfied: dash-html-components==2.0.0 in /usr/local/lib/python3.10/dist-packages (from dash>=2.0.0->dash-bootstrap-components) (2.0.0)\n",
            "Requirement already satisfied: dash-core-components==2.0.0 in /usr/local/lib/python3.10/dist-packages (from dash>=2.0.0->dash-bootstrap-components) (2.0.0)\n",
            "Requirement already satisfied: dash-table==5.0.0 in /usr/local/lib/python3.10/dist-packages (from dash>=2.0.0->dash-bootstrap-components) (5.0.0)\n",
            "Requirement already satisfied: importlib-metadata in /usr/local/lib/python3.10/dist-packages (from dash>=2.0.0->dash-bootstrap-components) (8.5.0)\n",
            "Requirement already satisfied: typing-extensions>=4.1.1 in /usr/local/lib/python3.10/dist-packages (from dash>=2.0.0->dash-bootstrap-components) (4.12.2)\n",
            "Requirement already satisfied: requests in /usr/local/lib/python3.10/dist-packages (from dash>=2.0.0->dash-bootstrap-components) (2.32.3)\n",
            "Requirement already satisfied: retrying in /usr/local/lib/python3.10/dist-packages (from dash>=2.0.0->dash-bootstrap-components) (1.3.4)\n",
            "Requirement already satisfied: nest-asyncio in /usr/local/lib/python3.10/dist-packages (from dash>=2.0.0->dash-bootstrap-components) (1.6.0)\n",
            "Requirement already satisfied: setuptools in /usr/local/lib/python3.10/dist-packages (from dash>=2.0.0->dash-bootstrap-components) (75.1.0)\n",
            "Requirement already satisfied: Jinja2>=3.0 in /usr/local/lib/python3.10/dist-packages (from Flask<3.1,>=1.0.4->dash>=2.0.0->dash-bootstrap-components) (3.1.4)\n",
            "Requirement already satisfied: itsdangerous>=2.0 in /usr/local/lib/python3.10/dist-packages (from Flask<3.1,>=1.0.4->dash>=2.0.0->dash-bootstrap-components) (2.2.0)\n",
            "Requirement already satisfied: click>=8.0 in /usr/local/lib/python3.10/dist-packages (from Flask<3.1,>=1.0.4->dash>=2.0.0->dash-bootstrap-components) (8.1.7)\n",
            "Requirement already satisfied: tenacity>=6.2.0 in /usr/local/lib/python3.10/dist-packages (from plotly>=5.0.0->dash>=2.0.0->dash-bootstrap-components) (9.0.0)\n",
            "Requirement already satisfied: packaging in /usr/local/lib/python3.10/dist-packages (from plotly>=5.0.0->dash>=2.0.0->dash-bootstrap-components) (24.1)\n",
            "Requirement already satisfied: MarkupSafe>=2.1.1 in /usr/local/lib/python3.10/dist-packages (from Werkzeug<3.1->dash>=2.0.0->dash-bootstrap-components) (3.0.2)\n",
            "Requirement already satisfied: zipp>=3.20 in /usr/local/lib/python3.10/dist-packages (from importlib-metadata->dash>=2.0.0->dash-bootstrap-components) (3.20.2)\n",
            "Requirement already satisfied: charset-normalizer<4,>=2 in /usr/local/lib/python3.10/dist-packages (from requests->dash>=2.0.0->dash-bootstrap-components) (3.4.0)\n",
            "Requirement already satisfied: idna<4,>=2.5 in /usr/local/lib/python3.10/dist-packages (from requests->dash>=2.0.0->dash-bootstrap-components) (3.10)\n",
            "Requirement already satisfied: urllib3<3,>=1.21.1 in /usr/local/lib/python3.10/dist-packages (from requests->dash>=2.0.0->dash-bootstrap-components) (2.2.3)\n",
            "Requirement already satisfied: certifi>=2017.4.17 in /usr/local/lib/python3.10/dist-packages (from requests->dash>=2.0.0->dash-bootstrap-components) (2024.8.30)\n",
            "Requirement already satisfied: six>=1.7.0 in /usr/local/lib/python3.10/dist-packages (from retrying->dash>=2.0.0->dash-bootstrap-components) (1.16.0)\n"
          ]
        }
      ],
      "source": [
        "!pip install dash-bootstrap-components"
      ]
    },
    {
      "cell_type": "code",
      "source": [
        "from dash import Dash, dcc, html\n",
        "import dash_bootstrap_components as dbc\n",
        "import dash_table\n",
        "\n",
        "# Custom CSS styles\n",
        "custom_css = {\n",
        "    \"sidebar\": {\n",
        "        \"background-color\": \"#2b3e50\",\n",
        "        \"color\": \"white\",\n",
        "        \"padding\": \"20px\",\n",
        "        \"height\": \"100vh\",\n",
        "        \"box-shadow\": \"2px 0px 15px rgba(0,0,0,0.2)\"\n",
        "    },\n",
        "    \"main-content\": {\n",
        "        \"padding\": \"20px\",\n",
        "        \"background-color\": \"#1b2838\",\n",
        "        \"color\": \"white\"\n",
        "    },\n",
        "    \"button\": {\n",
        "        \"background-color\": \"#00bc8c\",\n",
        "        \"color\": \"white\",\n",
        "        \"border\": \"none\",\n",
        "        \"margin\": \"10px 0px\"\n",
        "    },\n",
        "    \"header\": {\n",
        "        \"text-align\": \"center\",\n",
        "        \"padding\": \"10px 0px\",\n",
        "        \"color\": \"#00bc8c\",\n",
        "        \"font-weight\": \"bold\"\n",
        "    }\n",
        "}\n",
        "\n",
        "app = Dash(__name__, external_stylesheets=[dbc.themes.CYBORG])\n",
        "\n",
        "app.layout = html.Div([\n",
        "    dbc.Row([\n",
        "        # Sidebar\n",
        "        dbc.Col(\n",
        "            dbc.Card([\n",
        "                html.H4(\"Customer Inquiry Dashboard\", style=custom_css[\"header\"]),\n",
        "                html.Hr(),  # Horizontal rule, a line between elements\n",
        "                html.P(\"Filters\", className=\"text-center\"),\n",
        "                dcc.Input(id=\"search-bar\", type=\"text\", placeholder=\"Search inquiries...\", className=\"mb-3 form-control\"),\n",
        "                dcc.Dropdown(\n",
        "                    id=\"category-filter\",\n",
        "                    options=[],  # Will populate dynamically\n",
        "                    placeholder=\"Select Category\",\n",
        "                    className=\"mb-3\"\n",
        "                ),\n",
        "                dbc.Button(\"Reset Filters\", id=\"reset-filters\", style={**custom_css[\"button\"], \"width\": \"100%\"}, className=\"w-100\")\n",
        "            ], style=custom_css[\"sidebar\"]),\n",
        "            width=2\n",
        "        ),\n",
        "\n",
        "        # Main Content\n",
        "        dbc.Col(\n",
        "            html.Div([\n",
        "                dcc.Interval(\n",
        "                    id='interval-component',\n",
        "                    interval=60*1000,  # Refresh data every minute\n",
        "                    n_intervals=0\n",
        "                ),\n",
        "                dbc.Row([\n",
        "                    dbc.Col(dcc.Graph(id=\"category-chart\"), width=6),\n",
        "                    dbc.Col(html.Div(id=\"wordcloud\", style={\"text-align\": \"center\"}), width=6),\n",
        "                ], className=\"mb-4\"),\n",
        "                dbc.Row([\n",
        "                    dbc.Col(dcc.Graph(id=\"trends-chart\"), width=8),\n",
        "                    dbc.Col(dash_table.DataTable(\n",
        "                        id=\"inquiry-table\",\n",
        "                        style_table={\"overflowX\": \"auto\"},\n",
        "                        style_header={\"backgroundColor\": \"#1a1a1a\", \"color\": \"#00bc8c\"},\n",
        "                        style_cell={\"textAlign\": \"left\", \"padding\": \"10px\", \"color\": \"#d1d1d1\"},\n",
        "                        style_data={\"backgroundColor\": \"#343a40\", \"color\": \"#d1d1d1\"},\n",
        "                        page_size=5,\n",
        "                    ), width=4),\n",
        "                ])\n",
        "            ], style=custom_css[\"main-content\"])\n",
        "        )\n",
        "    ])\n",
        "])\n",
        "\n",
        "if __name__ == \"__main__\":\n",
        "    app.run_server(debug=True)\n",
        "\n",
        "\n",
        "\n",
        "\n"
      ],
      "metadata": {
        "id": "RoYlL9S9M_IH",
        "colab": {
          "base_uri": "https://localhost:8080/",
          "height": 845
        },
        "outputId": "36d287e7-e607-4415-ed23-f3fd3317831e"
      },
      "execution_count": 24,
      "outputs": [
        {
          "output_type": "stream",
          "name": "stderr",
          "text": [
            "<ipython-input-24-0d33265bded2>:3: UserWarning:\n",
            "\n",
            "\n",
            "The dash_table package is deprecated. Please replace\n",
            "`import dash_table` with `from dash import dash_table`\n",
            "\n",
            "Also, if you're using any of the table format helpers (e.g. Group), replace \n",
            "`from dash_table.Format import Group` with \n",
            "`from dash.dash_table.Format import Group`\n",
            "\n"
          ]
        },
        {
          "output_type": "display_data",
          "data": {
            "text/plain": [
              "<IPython.core.display.Javascript object>"
            ],
            "application/javascript": [
              "(async (port, path, width, height, cache, element) => {\n",
              "    if (!google.colab.kernel.accessAllowed && !cache) {\n",
              "      return;\n",
              "    }\n",
              "    element.appendChild(document.createTextNode(''));\n",
              "    const url = await google.colab.kernel.proxyPort(port, {cache});\n",
              "    const iframe = document.createElement('iframe');\n",
              "    iframe.src = new URL(path, url).toString();\n",
              "    iframe.height = height;\n",
              "    iframe.width = width;\n",
              "    iframe.style.border = 0;\n",
              "    iframe.allow = [\n",
              "        'accelerometer',\n",
              "        'autoplay',\n",
              "        'camera',\n",
              "        'clipboard-read',\n",
              "        'clipboard-write',\n",
              "        'gyroscope',\n",
              "        'magnetometer',\n",
              "        'microphone',\n",
              "        'serial',\n",
              "        'usb',\n",
              "        'xr-spatial-tracking',\n",
              "    ].join('; ');\n",
              "    element.appendChild(iframe);\n",
              "  })(8050, \"/\", \"100%\", 650, false, window.element)"
            ]
          },
          "metadata": {}
        }
      ]
    },
    {
      "cell_type": "code",
      "source": [],
      "metadata": {
        "id": "mzhTG3SQijRm"
      },
      "execution_count": null,
      "outputs": []
    }
  ]
}